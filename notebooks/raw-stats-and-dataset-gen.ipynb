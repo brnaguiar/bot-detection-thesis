{
 "cells": [
  {
   "cell_type": "markdown",
   "id": "2f2ddf31",
   "metadata": {
    "scrolled": true
   },
   "source": [
    "## RAW SETS AND DATASET GENERATION"
   ]
  },
  {
   "cell_type": "code",
   "execution_count": 2,
   "id": "74ede7c5",
   "metadata": {},
   "outputs": [],
   "source": [
    "from IPython.display import Audio, display\n",
    "\n",
    "def allDone():\n",
    "  display(Audio(url='https://sound.peal.io/ps/audios/000/000/537/original/woo_vu_luvub_dub_dub.wav', autoplay=True))"
   ]
  },
  {
   "cell_type": "code",
   "execution_count": 3,
   "id": "7c9220a2",
   "metadata": {},
   "outputs": [],
   "source": [
    "import numpy as np\n",
    "import pandas as pd\n",
    "import plotly.express as px\n",
    "from plotly.subplots import make_subplots\n",
    "import plotly.graph_objects as go\n",
    "\n",
    "import matplotlib.pyplot as plt\n",
    "import scipy.stats as stats\n",
    "import random\n",
    "pd.options.plotting.backend = \"plotly\"\n",
    "from scipy.stats import kurtosis, skew, trim_mean, median_abs_deviation, iqr\n",
    "\n",
    "import pprint\n",
    "import os\n",
    "import math\n",
    "\n",
    "import plotly.io as pio"
   ]
  },
  {
   "cell_type": "markdown",
   "id": "184a89e7",
   "metadata": {},
   "source": [
    "### Plotly theme"
   ]
  },
  {
   "cell_type": "code",
   "execution_count": 4,
   "id": "1cfec9ec",
   "metadata": {},
   "outputs": [],
   "source": [
    "PLOTLY_THEME = 'plotly'  #  'plotly_dark'\n",
    "pio.templates.default = PLOTLY_THEME\n",
    "\n",
    "normal_white  = 'rgba(52, 113, 235, 1)' \n",
    "normal_dark   = 'rgba(73, 152, 227, 1)'\n",
    "anomaly_white = 'rgba(237, 76, 74, 1)'\n",
    "anomaly_dark  = 'rgba(230, 94, 94 1)'"
   ]
  },
  {
   "cell_type": "code",
   "execution_count": 28,
   "id": "85a70b28",
   "metadata": {
    "scrolled": false
   },
   "outputs": [
    {
     "data": {
      "application/vnd.plotly.v1+json": {
       "config": {
        "plotlyServerURL": "https://plot.ly"
       },
       "data": [
        {
         "hovertemplate": "Method=High Correlation Filter<br>Threshold value=%{x}<br>F1-Score=%{y}<extra></extra>",
         "legendgroup": "High Correlation Filter",
         "line": {
          "color": "#636efa",
          "dash": "solid"
         },
         "marker": {
          "symbol": "circle"
         },
         "mode": "lines+markers",
         "name": "High Correlation Filter",
         "orientation": "v",
         "showlegend": true,
         "type": "scatter",
         "x": [
          0.8,
          0.85,
          0.9,
          0.95,
          0.99
         ],
         "xaxis": "x",
         "y": [
          0.6251,
          0.7668,
          0.7963,
          0.9279,
          0.9365
         ],
         "yaxis": "y"
        },
        {
         "hovertemplate": "Method=PCA<br>Threshold value=%{x}<br>F1-Score=%{y}<extra></extra>",
         "legendgroup": "PCA",
         "line": {
          "color": "#EF553B",
          "dash": "solid"
         },
         "marker": {
          "symbol": "diamond"
         },
         "mode": "lines+markers",
         "name": "PCA",
         "orientation": "v",
         "showlegend": true,
         "type": "scatter",
         "x": [
          0.7,
          0.75,
          0.8,
          0.85,
          0.9,
          0.95,
          0.99
         ],
         "xaxis": "x",
         "y": [
          0.8911,
          0.9005,
          0.9068,
          0.9098,
          0.9024,
          0.8867,
          0.8994
         ],
         "yaxis": "y"
        }
       ],
       "layout": {
        "legend": {
         "title": {
          "text": "Method"
         },
         "tracegroupgap": 0
        },
        "template": {
         "data": {
          "bar": [
           {
            "error_x": {
             "color": "#2a3f5f"
            },
            "error_y": {
             "color": "#2a3f5f"
            },
            "marker": {
             "line": {
              "color": "#E5ECF6",
              "width": 0.5
             },
             "pattern": {
              "fillmode": "overlay",
              "size": 10,
              "solidity": 0.2
             }
            },
            "type": "bar"
           }
          ],
          "barpolar": [
           {
            "marker": {
             "line": {
              "color": "#E5ECF6",
              "width": 0.5
             },
             "pattern": {
              "fillmode": "overlay",
              "size": 10,
              "solidity": 0.2
             }
            },
            "type": "barpolar"
           }
          ],
          "carpet": [
           {
            "aaxis": {
             "endlinecolor": "#2a3f5f",
             "gridcolor": "white",
             "linecolor": "white",
             "minorgridcolor": "white",
             "startlinecolor": "#2a3f5f"
            },
            "baxis": {
             "endlinecolor": "#2a3f5f",
             "gridcolor": "white",
             "linecolor": "white",
             "minorgridcolor": "white",
             "startlinecolor": "#2a3f5f"
            },
            "type": "carpet"
           }
          ],
          "choropleth": [
           {
            "colorbar": {
             "outlinewidth": 0,
             "ticks": ""
            },
            "type": "choropleth"
           }
          ],
          "contour": [
           {
            "colorbar": {
             "outlinewidth": 0,
             "ticks": ""
            },
            "colorscale": [
             [
              0,
              "#0d0887"
             ],
             [
              0.1111111111111111,
              "#46039f"
             ],
             [
              0.2222222222222222,
              "#7201a8"
             ],
             [
              0.3333333333333333,
              "#9c179e"
             ],
             [
              0.4444444444444444,
              "#bd3786"
             ],
             [
              0.5555555555555556,
              "#d8576b"
             ],
             [
              0.6666666666666666,
              "#ed7953"
             ],
             [
              0.7777777777777778,
              "#fb9f3a"
             ],
             [
              0.8888888888888888,
              "#fdca26"
             ],
             [
              1,
              "#f0f921"
             ]
            ],
            "type": "contour"
           }
          ],
          "contourcarpet": [
           {
            "colorbar": {
             "outlinewidth": 0,
             "ticks": ""
            },
            "type": "contourcarpet"
           }
          ],
          "heatmap": [
           {
            "colorbar": {
             "outlinewidth": 0,
             "ticks": ""
            },
            "colorscale": [
             [
              0,
              "#0d0887"
             ],
             [
              0.1111111111111111,
              "#46039f"
             ],
             [
              0.2222222222222222,
              "#7201a8"
             ],
             [
              0.3333333333333333,
              "#9c179e"
             ],
             [
              0.4444444444444444,
              "#bd3786"
             ],
             [
              0.5555555555555556,
              "#d8576b"
             ],
             [
              0.6666666666666666,
              "#ed7953"
             ],
             [
              0.7777777777777778,
              "#fb9f3a"
             ],
             [
              0.8888888888888888,
              "#fdca26"
             ],
             [
              1,
              "#f0f921"
             ]
            ],
            "type": "heatmap"
           }
          ],
          "heatmapgl": [
           {
            "colorbar": {
             "outlinewidth": 0,
             "ticks": ""
            },
            "colorscale": [
             [
              0,
              "#0d0887"
             ],
             [
              0.1111111111111111,
              "#46039f"
             ],
             [
              0.2222222222222222,
              "#7201a8"
             ],
             [
              0.3333333333333333,
              "#9c179e"
             ],
             [
              0.4444444444444444,
              "#bd3786"
             ],
             [
              0.5555555555555556,
              "#d8576b"
             ],
             [
              0.6666666666666666,
              "#ed7953"
             ],
             [
              0.7777777777777778,
              "#fb9f3a"
             ],
             [
              0.8888888888888888,
              "#fdca26"
             ],
             [
              1,
              "#f0f921"
             ]
            ],
            "type": "heatmapgl"
           }
          ],
          "histogram": [
           {
            "marker": {
             "pattern": {
              "fillmode": "overlay",
              "size": 10,
              "solidity": 0.2
             }
            },
            "type": "histogram"
           }
          ],
          "histogram2d": [
           {
            "colorbar": {
             "outlinewidth": 0,
             "ticks": ""
            },
            "colorscale": [
             [
              0,
              "#0d0887"
             ],
             [
              0.1111111111111111,
              "#46039f"
             ],
             [
              0.2222222222222222,
              "#7201a8"
             ],
             [
              0.3333333333333333,
              "#9c179e"
             ],
             [
              0.4444444444444444,
              "#bd3786"
             ],
             [
              0.5555555555555556,
              "#d8576b"
             ],
             [
              0.6666666666666666,
              "#ed7953"
             ],
             [
              0.7777777777777778,
              "#fb9f3a"
             ],
             [
              0.8888888888888888,
              "#fdca26"
             ],
             [
              1,
              "#f0f921"
             ]
            ],
            "type": "histogram2d"
           }
          ],
          "histogram2dcontour": [
           {
            "colorbar": {
             "outlinewidth": 0,
             "ticks": ""
            },
            "colorscale": [
             [
              0,
              "#0d0887"
             ],
             [
              0.1111111111111111,
              "#46039f"
             ],
             [
              0.2222222222222222,
              "#7201a8"
             ],
             [
              0.3333333333333333,
              "#9c179e"
             ],
             [
              0.4444444444444444,
              "#bd3786"
             ],
             [
              0.5555555555555556,
              "#d8576b"
             ],
             [
              0.6666666666666666,
              "#ed7953"
             ],
             [
              0.7777777777777778,
              "#fb9f3a"
             ],
             [
              0.8888888888888888,
              "#fdca26"
             ],
             [
              1,
              "#f0f921"
             ]
            ],
            "type": "histogram2dcontour"
           }
          ],
          "mesh3d": [
           {
            "colorbar": {
             "outlinewidth": 0,
             "ticks": ""
            },
            "type": "mesh3d"
           }
          ],
          "parcoords": [
           {
            "line": {
             "colorbar": {
              "outlinewidth": 0,
              "ticks": ""
             }
            },
            "type": "parcoords"
           }
          ],
          "pie": [
           {
            "automargin": true,
            "type": "pie"
           }
          ],
          "scatter": [
           {
            "fillpattern": {
             "fillmode": "overlay",
             "size": 10,
             "solidity": 0.2
            },
            "type": "scatter"
           }
          ],
          "scatter3d": [
           {
            "line": {
             "colorbar": {
              "outlinewidth": 0,
              "ticks": ""
             }
            },
            "marker": {
             "colorbar": {
              "outlinewidth": 0,
              "ticks": ""
             }
            },
            "type": "scatter3d"
           }
          ],
          "scattercarpet": [
           {
            "marker": {
             "colorbar": {
              "outlinewidth": 0,
              "ticks": ""
             }
            },
            "type": "scattercarpet"
           }
          ],
          "scattergeo": [
           {
            "marker": {
             "colorbar": {
              "outlinewidth": 0,
              "ticks": ""
             }
            },
            "type": "scattergeo"
           }
          ],
          "scattergl": [
           {
            "marker": {
             "colorbar": {
              "outlinewidth": 0,
              "ticks": ""
             }
            },
            "type": "scattergl"
           }
          ],
          "scattermapbox": [
           {
            "marker": {
             "colorbar": {
              "outlinewidth": 0,
              "ticks": ""
             }
            },
            "type": "scattermapbox"
           }
          ],
          "scatterpolar": [
           {
            "marker": {
             "colorbar": {
              "outlinewidth": 0,
              "ticks": ""
             }
            },
            "type": "scatterpolar"
           }
          ],
          "scatterpolargl": [
           {
            "marker": {
             "colorbar": {
              "outlinewidth": 0,
              "ticks": ""
             }
            },
            "type": "scatterpolargl"
           }
          ],
          "scatterternary": [
           {
            "marker": {
             "colorbar": {
              "outlinewidth": 0,
              "ticks": ""
             }
            },
            "type": "scatterternary"
           }
          ],
          "surface": [
           {
            "colorbar": {
             "outlinewidth": 0,
             "ticks": ""
            },
            "colorscale": [
             [
              0,
              "#0d0887"
             ],
             [
              0.1111111111111111,
              "#46039f"
             ],
             [
              0.2222222222222222,
              "#7201a8"
             ],
             [
              0.3333333333333333,
              "#9c179e"
             ],
             [
              0.4444444444444444,
              "#bd3786"
             ],
             [
              0.5555555555555556,
              "#d8576b"
             ],
             [
              0.6666666666666666,
              "#ed7953"
             ],
             [
              0.7777777777777778,
              "#fb9f3a"
             ],
             [
              0.8888888888888888,
              "#fdca26"
             ],
             [
              1,
              "#f0f921"
             ]
            ],
            "type": "surface"
           }
          ],
          "table": [
           {
            "cells": {
             "fill": {
              "color": "#EBF0F8"
             },
             "line": {
              "color": "white"
             }
            },
            "header": {
             "fill": {
              "color": "#C8D4E3"
             },
             "line": {
              "color": "white"
             }
            },
            "type": "table"
           }
          ]
         },
         "layout": {
          "annotationdefaults": {
           "arrowcolor": "#2a3f5f",
           "arrowhead": 0,
           "arrowwidth": 1
          },
          "autotypenumbers": "strict",
          "coloraxis": {
           "colorbar": {
            "outlinewidth": 0,
            "ticks": ""
           }
          },
          "colorscale": {
           "diverging": [
            [
             0,
             "#8e0152"
            ],
            [
             0.1,
             "#c51b7d"
            ],
            [
             0.2,
             "#de77ae"
            ],
            [
             0.3,
             "#f1b6da"
            ],
            [
             0.4,
             "#fde0ef"
            ],
            [
             0.5,
             "#f7f7f7"
            ],
            [
             0.6,
             "#e6f5d0"
            ],
            [
             0.7,
             "#b8e186"
            ],
            [
             0.8,
             "#7fbc41"
            ],
            [
             0.9,
             "#4d9221"
            ],
            [
             1,
             "#276419"
            ]
           ],
           "sequential": [
            [
             0,
             "#0d0887"
            ],
            [
             0.1111111111111111,
             "#46039f"
            ],
            [
             0.2222222222222222,
             "#7201a8"
            ],
            [
             0.3333333333333333,
             "#9c179e"
            ],
            [
             0.4444444444444444,
             "#bd3786"
            ],
            [
             0.5555555555555556,
             "#d8576b"
            ],
            [
             0.6666666666666666,
             "#ed7953"
            ],
            [
             0.7777777777777778,
             "#fb9f3a"
            ],
            [
             0.8888888888888888,
             "#fdca26"
            ],
            [
             1,
             "#f0f921"
            ]
           ],
           "sequentialminus": [
            [
             0,
             "#0d0887"
            ],
            [
             0.1111111111111111,
             "#46039f"
            ],
            [
             0.2222222222222222,
             "#7201a8"
            ],
            [
             0.3333333333333333,
             "#9c179e"
            ],
            [
             0.4444444444444444,
             "#bd3786"
            ],
            [
             0.5555555555555556,
             "#d8576b"
            ],
            [
             0.6666666666666666,
             "#ed7953"
            ],
            [
             0.7777777777777778,
             "#fb9f3a"
            ],
            [
             0.8888888888888888,
             "#fdca26"
            ],
            [
             1,
             "#f0f921"
            ]
           ]
          },
          "colorway": [
           "#636efa",
           "#EF553B",
           "#00cc96",
           "#ab63fa",
           "#FFA15A",
           "#19d3f3",
           "#FF6692",
           "#B6E880",
           "#FF97FF",
           "#FECB52"
          ],
          "font": {
           "color": "#2a3f5f"
          },
          "geo": {
           "bgcolor": "white",
           "lakecolor": "white",
           "landcolor": "#E5ECF6",
           "showlakes": true,
           "showland": true,
           "subunitcolor": "white"
          },
          "hoverlabel": {
           "align": "left"
          },
          "hovermode": "closest",
          "mapbox": {
           "style": "light"
          },
          "paper_bgcolor": "white",
          "plot_bgcolor": "#E5ECF6",
          "polar": {
           "angularaxis": {
            "gridcolor": "white",
            "linecolor": "white",
            "ticks": ""
           },
           "bgcolor": "#E5ECF6",
           "radialaxis": {
            "gridcolor": "white",
            "linecolor": "white",
            "ticks": ""
           }
          },
          "scene": {
           "xaxis": {
            "backgroundcolor": "#E5ECF6",
            "gridcolor": "white",
            "gridwidth": 2,
            "linecolor": "white",
            "showbackground": true,
            "ticks": "",
            "zerolinecolor": "white"
           },
           "yaxis": {
            "backgroundcolor": "#E5ECF6",
            "gridcolor": "white",
            "gridwidth": 2,
            "linecolor": "white",
            "showbackground": true,
            "ticks": "",
            "zerolinecolor": "white"
           },
           "zaxis": {
            "backgroundcolor": "#E5ECF6",
            "gridcolor": "white",
            "gridwidth": 2,
            "linecolor": "white",
            "showbackground": true,
            "ticks": "",
            "zerolinecolor": "white"
           }
          },
          "shapedefaults": {
           "line": {
            "color": "#2a3f5f"
           }
          },
          "ternary": {
           "aaxis": {
            "gridcolor": "white",
            "linecolor": "white",
            "ticks": ""
           },
           "baxis": {
            "gridcolor": "white",
            "linecolor": "white",
            "ticks": ""
           },
           "bgcolor": "#E5ECF6",
           "caxis": {
            "gridcolor": "white",
            "linecolor": "white",
            "ticks": ""
           }
          },
          "title": {
           "x": 0.05
          },
          "xaxis": {
           "automargin": true,
           "gridcolor": "white",
           "linecolor": "white",
           "ticks": "",
           "title": {
            "standoff": 15
           },
           "zerolinecolor": "white",
           "zerolinewidth": 2
          },
          "yaxis": {
           "automargin": true,
           "gridcolor": "white",
           "linecolor": "white",
           "ticks": "",
           "title": {
            "standoff": 15
           },
           "zerolinecolor": "white",
           "zerolinewidth": 2
          }
         }
        },
        "title": {
         "text": "Tested threshold values for PCA and High Correlation Filter"
        },
        "xaxis": {
         "anchor": "y",
         "domain": [
          0,
          1
         ],
         "title": {
          "text": "Threshold value"
         }
        },
        "yaxis": {
         "anchor": "x",
         "domain": [
          0,
          1
         ],
         "title": {
          "text": "F1-Score"
         }
        }
       }
      },
      "text/html": [
       "<div>                            <div id=\"c2b1d7c7-75ad-42ed-a7c9-66b7c2e62eaa\" class=\"plotly-graph-div\" style=\"height:525px; width:100%;\"></div>            <script type=\"text/javascript\">                require([\"plotly\"], function(Plotly) {                    window.PLOTLYENV=window.PLOTLYENV || {};                                    if (document.getElementById(\"c2b1d7c7-75ad-42ed-a7c9-66b7c2e62eaa\")) {                    Plotly.newPlot(                        \"c2b1d7c7-75ad-42ed-a7c9-66b7c2e62eaa\",                        [{\"hovertemplate\":\"Method=High Correlation Filter<br>Threshold value=%{x}<br>F1-Score=%{y}<extra></extra>\",\"legendgroup\":\"High Correlation Filter\",\"line\":{\"color\":\"#636efa\",\"dash\":\"solid\"},\"marker\":{\"symbol\":\"circle\"},\"mode\":\"lines+markers\",\"name\":\"High Correlation Filter\",\"orientation\":\"v\",\"showlegend\":true,\"x\":[0.8,0.85,0.9,0.95,0.99],\"xaxis\":\"x\",\"y\":[0.6251,0.7668,0.7963,0.9279,0.9365],\"yaxis\":\"y\",\"type\":\"scatter\"},{\"hovertemplate\":\"Method=PCA<br>Threshold value=%{x}<br>F1-Score=%{y}<extra></extra>\",\"legendgroup\":\"PCA\",\"line\":{\"color\":\"#EF553B\",\"dash\":\"solid\"},\"marker\":{\"symbol\":\"diamond\"},\"mode\":\"lines+markers\",\"name\":\"PCA\",\"orientation\":\"v\",\"showlegend\":true,\"x\":[0.7,0.75,0.8,0.85,0.9,0.95,0.99],\"xaxis\":\"x\",\"y\":[0.8911,0.9005,0.9068,0.9098,0.9024,0.8867,0.8994],\"yaxis\":\"y\",\"type\":\"scatter\"}],                        {\"template\":{\"data\":{\"histogram2dcontour\":[{\"type\":\"histogram2dcontour\",\"colorbar\":{\"outlinewidth\":0,\"ticks\":\"\"},\"colorscale\":[[0.0,\"#0d0887\"],[0.1111111111111111,\"#46039f\"],[0.2222222222222222,\"#7201a8\"],[0.3333333333333333,\"#9c179e\"],[0.4444444444444444,\"#bd3786\"],[0.5555555555555556,\"#d8576b\"],[0.6666666666666666,\"#ed7953\"],[0.7777777777777778,\"#fb9f3a\"],[0.8888888888888888,\"#fdca26\"],[1.0,\"#f0f921\"]]}],\"choropleth\":[{\"type\":\"choropleth\",\"colorbar\":{\"outlinewidth\":0,\"ticks\":\"\"}}],\"histogram2d\":[{\"type\":\"histogram2d\",\"colorbar\":{\"outlinewidth\":0,\"ticks\":\"\"},\"colorscale\":[[0.0,\"#0d0887\"],[0.1111111111111111,\"#46039f\"],[0.2222222222222222,\"#7201a8\"],[0.3333333333333333,\"#9c179e\"],[0.4444444444444444,\"#bd3786\"],[0.5555555555555556,\"#d8576b\"],[0.6666666666666666,\"#ed7953\"],[0.7777777777777778,\"#fb9f3a\"],[0.8888888888888888,\"#fdca26\"],[1.0,\"#f0f921\"]]}],\"heatmap\":[{\"type\":\"heatmap\",\"colorbar\":{\"outlinewidth\":0,\"ticks\":\"\"},\"colorscale\":[[0.0,\"#0d0887\"],[0.1111111111111111,\"#46039f\"],[0.2222222222222222,\"#7201a8\"],[0.3333333333333333,\"#9c179e\"],[0.4444444444444444,\"#bd3786\"],[0.5555555555555556,\"#d8576b\"],[0.6666666666666666,\"#ed7953\"],[0.7777777777777778,\"#fb9f3a\"],[0.8888888888888888,\"#fdca26\"],[1.0,\"#f0f921\"]]}],\"heatmapgl\":[{\"type\":\"heatmapgl\",\"colorbar\":{\"outlinewidth\":0,\"ticks\":\"\"},\"colorscale\":[[0.0,\"#0d0887\"],[0.1111111111111111,\"#46039f\"],[0.2222222222222222,\"#7201a8\"],[0.3333333333333333,\"#9c179e\"],[0.4444444444444444,\"#bd3786\"],[0.5555555555555556,\"#d8576b\"],[0.6666666666666666,\"#ed7953\"],[0.7777777777777778,\"#fb9f3a\"],[0.8888888888888888,\"#fdca26\"],[1.0,\"#f0f921\"]]}],\"contourcarpet\":[{\"type\":\"contourcarpet\",\"colorbar\":{\"outlinewidth\":0,\"ticks\":\"\"}}],\"contour\":[{\"type\":\"contour\",\"colorbar\":{\"outlinewidth\":0,\"ticks\":\"\"},\"colorscale\":[[0.0,\"#0d0887\"],[0.1111111111111111,\"#46039f\"],[0.2222222222222222,\"#7201a8\"],[0.3333333333333333,\"#9c179e\"],[0.4444444444444444,\"#bd3786\"],[0.5555555555555556,\"#d8576b\"],[0.6666666666666666,\"#ed7953\"],[0.7777777777777778,\"#fb9f3a\"],[0.8888888888888888,\"#fdca26\"],[1.0,\"#f0f921\"]]}],\"surface\":[{\"type\":\"surface\",\"colorbar\":{\"outlinewidth\":0,\"ticks\":\"\"},\"colorscale\":[[0.0,\"#0d0887\"],[0.1111111111111111,\"#46039f\"],[0.2222222222222222,\"#7201a8\"],[0.3333333333333333,\"#9c179e\"],[0.4444444444444444,\"#bd3786\"],[0.5555555555555556,\"#d8576b\"],[0.6666666666666666,\"#ed7953\"],[0.7777777777777778,\"#fb9f3a\"],[0.8888888888888888,\"#fdca26\"],[1.0,\"#f0f921\"]]}],\"mesh3d\":[{\"type\":\"mesh3d\",\"colorbar\":{\"outlinewidth\":0,\"ticks\":\"\"}}],\"scatter\":[{\"fillpattern\":{\"fillmode\":\"overlay\",\"size\":10,\"solidity\":0.2},\"type\":\"scatter\"}],\"parcoords\":[{\"type\":\"parcoords\",\"line\":{\"colorbar\":{\"outlinewidth\":0,\"ticks\":\"\"}}}],\"scatterpolargl\":[{\"type\":\"scatterpolargl\",\"marker\":{\"colorbar\":{\"outlinewidth\":0,\"ticks\":\"\"}}}],\"bar\":[{\"error_x\":{\"color\":\"#2a3f5f\"},\"error_y\":{\"color\":\"#2a3f5f\"},\"marker\":{\"line\":{\"color\":\"#E5ECF6\",\"width\":0.5},\"pattern\":{\"fillmode\":\"overlay\",\"size\":10,\"solidity\":0.2}},\"type\":\"bar\"}],\"scattergeo\":[{\"type\":\"scattergeo\",\"marker\":{\"colorbar\":{\"outlinewidth\":0,\"ticks\":\"\"}}}],\"scatterpolar\":[{\"type\":\"scatterpolar\",\"marker\":{\"colorbar\":{\"outlinewidth\":0,\"ticks\":\"\"}}}],\"histogram\":[{\"marker\":{\"pattern\":{\"fillmode\":\"overlay\",\"size\":10,\"solidity\":0.2}},\"type\":\"histogram\"}],\"scattergl\":[{\"type\":\"scattergl\",\"marker\":{\"colorbar\":{\"outlinewidth\":0,\"ticks\":\"\"}}}],\"scatter3d\":[{\"type\":\"scatter3d\",\"line\":{\"colorbar\":{\"outlinewidth\":0,\"ticks\":\"\"}},\"marker\":{\"colorbar\":{\"outlinewidth\":0,\"ticks\":\"\"}}}],\"scattermapbox\":[{\"type\":\"scattermapbox\",\"marker\":{\"colorbar\":{\"outlinewidth\":0,\"ticks\":\"\"}}}],\"scatterternary\":[{\"type\":\"scatterternary\",\"marker\":{\"colorbar\":{\"outlinewidth\":0,\"ticks\":\"\"}}}],\"scattercarpet\":[{\"type\":\"scattercarpet\",\"marker\":{\"colorbar\":{\"outlinewidth\":0,\"ticks\":\"\"}}}],\"carpet\":[{\"aaxis\":{\"endlinecolor\":\"#2a3f5f\",\"gridcolor\":\"white\",\"linecolor\":\"white\",\"minorgridcolor\":\"white\",\"startlinecolor\":\"#2a3f5f\"},\"baxis\":{\"endlinecolor\":\"#2a3f5f\",\"gridcolor\":\"white\",\"linecolor\":\"white\",\"minorgridcolor\":\"white\",\"startlinecolor\":\"#2a3f5f\"},\"type\":\"carpet\"}],\"table\":[{\"cells\":{\"fill\":{\"color\":\"#EBF0F8\"},\"line\":{\"color\":\"white\"}},\"header\":{\"fill\":{\"color\":\"#C8D4E3\"},\"line\":{\"color\":\"white\"}},\"type\":\"table\"}],\"barpolar\":[{\"marker\":{\"line\":{\"color\":\"#E5ECF6\",\"width\":0.5},\"pattern\":{\"fillmode\":\"overlay\",\"size\":10,\"solidity\":0.2}},\"type\":\"barpolar\"}],\"pie\":[{\"automargin\":true,\"type\":\"pie\"}]},\"layout\":{\"autotypenumbers\":\"strict\",\"colorway\":[\"#636efa\",\"#EF553B\",\"#00cc96\",\"#ab63fa\",\"#FFA15A\",\"#19d3f3\",\"#FF6692\",\"#B6E880\",\"#FF97FF\",\"#FECB52\"],\"font\":{\"color\":\"#2a3f5f\"},\"hovermode\":\"closest\",\"hoverlabel\":{\"align\":\"left\"},\"paper_bgcolor\":\"white\",\"plot_bgcolor\":\"#E5ECF6\",\"polar\":{\"bgcolor\":\"#E5ECF6\",\"angularaxis\":{\"gridcolor\":\"white\",\"linecolor\":\"white\",\"ticks\":\"\"},\"radialaxis\":{\"gridcolor\":\"white\",\"linecolor\":\"white\",\"ticks\":\"\"}},\"ternary\":{\"bgcolor\":\"#E5ECF6\",\"aaxis\":{\"gridcolor\":\"white\",\"linecolor\":\"white\",\"ticks\":\"\"},\"baxis\":{\"gridcolor\":\"white\",\"linecolor\":\"white\",\"ticks\":\"\"},\"caxis\":{\"gridcolor\":\"white\",\"linecolor\":\"white\",\"ticks\":\"\"}},\"coloraxis\":{\"colorbar\":{\"outlinewidth\":0,\"ticks\":\"\"}},\"colorscale\":{\"sequential\":[[0.0,\"#0d0887\"],[0.1111111111111111,\"#46039f\"],[0.2222222222222222,\"#7201a8\"],[0.3333333333333333,\"#9c179e\"],[0.4444444444444444,\"#bd3786\"],[0.5555555555555556,\"#d8576b\"],[0.6666666666666666,\"#ed7953\"],[0.7777777777777778,\"#fb9f3a\"],[0.8888888888888888,\"#fdca26\"],[1.0,\"#f0f921\"]],\"sequentialminus\":[[0.0,\"#0d0887\"],[0.1111111111111111,\"#46039f\"],[0.2222222222222222,\"#7201a8\"],[0.3333333333333333,\"#9c179e\"],[0.4444444444444444,\"#bd3786\"],[0.5555555555555556,\"#d8576b\"],[0.6666666666666666,\"#ed7953\"],[0.7777777777777778,\"#fb9f3a\"],[0.8888888888888888,\"#fdca26\"],[1.0,\"#f0f921\"]],\"diverging\":[[0,\"#8e0152\"],[0.1,\"#c51b7d\"],[0.2,\"#de77ae\"],[0.3,\"#f1b6da\"],[0.4,\"#fde0ef\"],[0.5,\"#f7f7f7\"],[0.6,\"#e6f5d0\"],[0.7,\"#b8e186\"],[0.8,\"#7fbc41\"],[0.9,\"#4d9221\"],[1,\"#276419\"]]},\"xaxis\":{\"gridcolor\":\"white\",\"linecolor\":\"white\",\"ticks\":\"\",\"title\":{\"standoff\":15},\"zerolinecolor\":\"white\",\"automargin\":true,\"zerolinewidth\":2},\"yaxis\":{\"gridcolor\":\"white\",\"linecolor\":\"white\",\"ticks\":\"\",\"title\":{\"standoff\":15},\"zerolinecolor\":\"white\",\"automargin\":true,\"zerolinewidth\":2},\"scene\":{\"xaxis\":{\"backgroundcolor\":\"#E5ECF6\",\"gridcolor\":\"white\",\"linecolor\":\"white\",\"showbackground\":true,\"ticks\":\"\",\"zerolinecolor\":\"white\",\"gridwidth\":2},\"yaxis\":{\"backgroundcolor\":\"#E5ECF6\",\"gridcolor\":\"white\",\"linecolor\":\"white\",\"showbackground\":true,\"ticks\":\"\",\"zerolinecolor\":\"white\",\"gridwidth\":2},\"zaxis\":{\"backgroundcolor\":\"#E5ECF6\",\"gridcolor\":\"white\",\"linecolor\":\"white\",\"showbackground\":true,\"ticks\":\"\",\"zerolinecolor\":\"white\",\"gridwidth\":2}},\"shapedefaults\":{\"line\":{\"color\":\"#2a3f5f\"}},\"annotationdefaults\":{\"arrowcolor\":\"#2a3f5f\",\"arrowhead\":0,\"arrowwidth\":1},\"geo\":{\"bgcolor\":\"white\",\"landcolor\":\"#E5ECF6\",\"subunitcolor\":\"white\",\"showland\":true,\"showlakes\":true,\"lakecolor\":\"white\"},\"title\":{\"x\":0.05},\"mapbox\":{\"style\":\"light\"}}},\"xaxis\":{\"anchor\":\"y\",\"domain\":[0.0,1.0],\"title\":{\"text\":\"Threshold value\"}},\"yaxis\":{\"anchor\":\"x\",\"domain\":[0.0,1.0],\"title\":{\"text\":\"F1-Score\"}},\"legend\":{\"title\":{\"text\":\"Method\"},\"tracegroupgap\":0},\"title\":{\"text\":\"Tested threshold values for PCA and High Correlation Filter\"}},                        {\"responsive\": true}                    ).then(function(){\n",
       "                            \n",
       "var gd = document.getElementById('c2b1d7c7-75ad-42ed-a7c9-66b7c2e62eaa');\n",
       "var x = new MutationObserver(function (mutations, observer) {{\n",
       "        var display = window.getComputedStyle(gd).display;\n",
       "        if (!display || display === 'none') {{\n",
       "            console.log([gd, 'removed!']);\n",
       "            Plotly.purge(gd);\n",
       "            observer.disconnect();\n",
       "        }}\n",
       "}});\n",
       "\n",
       "// Listen for the removal of the full notebook cells\n",
       "var notebookContainer = gd.closest('#notebook-container');\n",
       "if (notebookContainer) {{\n",
       "    x.observe(notebookContainer, {childList: true});\n",
       "}}\n",
       "\n",
       "// Listen for the clearing of the current output cell\n",
       "var outputEl = gd.closest('.output');\n",
       "if (outputEl) {{\n",
       "    x.observe(outputEl, {childList: true});\n",
       "}}\n",
       "\n",
       "                        })                };                });            </script>        </div>"
      ]
     },
     "metadata": {},
     "output_type": "display_data"
    }
   ],
   "source": [
    "data_70min = {'F1-Score':[0.6251, 0.7668, 0.7963, 0.9279, 0.9365, \n",
    "                   0.8911, 0.9005, 0.9068, 0.9098, 0.9024, 0.8867, 0.8994], #.-.-.- \n",
    "        'Threshold value':[0.80, 0.85, 0.90, 0.95, 0.99, \n",
    "                0.70, 0.75, 0.80, 0.85, 0.90, 0.95, 0.99], \n",
    "        'Method':[\"High Correlation Filter\", \"High Correlation Filter\", \"High Correlation Filter\", \"High Correlation Filter\", \"High Correlation Filter\", \n",
    "                \"PCA\", \"PCA\", \"PCA\", \"PCA\", \"PCA\", \"PCA\", \"PCA\"]}\n",
    "\n",
    "data_75min = {'F1-Score':[0.6159, 0.7584, 0.7986, 0.9262, 0.9372, \n",
    "                   0.8281, 0.8851, 0.8914, 0.9215, 0.9406, 0.9463, 0.9484], #.-.-.- 98872098000965793680980009\n",
    "        'Threshold value':[0.80, 0.85, 0.90, 0.95, 0.99, \n",
    "                0.70, 0.75, 0.80, 0.85, 0.90, 0.95, 0.99], \n",
    "        'Method':[\"High Correlation Filter\", \"High Correlation Filter\", \"High Correlation Filter\", \"High Correlation Filter\", \"High Correlation Filter\", \n",
    "                \"PCA\", \"PCA\", \"PCA\", \"PCA\", \"PCA\", \"PCA\", \"PCA\"]}\n",
    "\n",
    "data_15min = {'F1-Score':[0.5753,  0.7549, 0.8357, 0.8275, \n",
    "                   0.7859, 0.8123, 0.8310, 0.8374 , 0.8407, 0.8319, 0.8279], #.-.-.- 988720980009657936809800090.7584926266190.80, 4469.921, 0.7584926266190.80, 4469.921, 0.7584926266190.80, 4469.921, \n",
    "        'Threshold value':[0.85, 0.90, 0.95, 0.99, \n",
    "                0.70, 0.75, 0.80, 0.85, 0.90, 0.95, 0.99], \n",
    "        'Method':[\"High Correlation Filter\", \"High Correlation Filter\", \"High Correlation Filter\",  \"High Correlation Filter\", \n",
    "                \"PCA\", \"PCA\", \"PCA\", \"PCA\", \"PCA\", \"PCA\", \"PCA\"]}\n",
    "\n",
    "df = pd.DataFrame(data=data_70min) #;>\"\"15\n",
    "\n",
    "fig = px.line(df, x='Threshold value', y='F1-Score', color='Method', symbol='Method', title=\"Tested threshold values for PCA and High Correlation Filter\")\n",
    "fig.show()\n",
    "\n",
    "import plotly.io as pio\n",
    "pio.write_image(fig, \"threshold_value_70min.pdf\", height=\"500\", width=\"1080\") #8\"7075scale=6, 15"
   ]
  },
  {
   "cell_type": "markdown",
   "id": "7a75e3a5",
   "metadata": {},
   "source": [
    "### Helper functions"
   ]
  },
  {
   "cell_type": "code",
   "execution_count": 4,
   "id": "954850aa",
   "metadata": {},
   "outputs": [],
   "source": [
    "def make_lists(a):\n",
    "    aux = [[]]\n",
    "\n",
    "    for i,v in enumerate(a):\n",
    "        if aux[-1] == []:\n",
    "            aux[-1].append(v)\n",
    "        else:\n",
    "            if aux[-1][-1] == v:\n",
    "                aux[-1].append(v)\n",
    "            else:\n",
    "                aux.append([v])\n",
    "    return aux\n",
    "\n",
    "# a = [True, False, True, True, True, False, False, \n",
    "#      False, True, True, False]\n",
    "# make_lists(a)"
   ]
  },
  {
   "cell_type": "code",
   "execution_count": 5,
   "id": "f499731c",
   "metadata": {},
   "outputs": [],
   "source": [
    "def mad(col): # mean absolute deviation\n",
    "    return np.mean(np.absolute(col - np.mean(col)))"
   ]
  },
  {
   "cell_type": "markdown",
   "id": "b451c39b",
   "metadata": {},
   "source": [
    "### Load  raw datasets"
   ]
  },
  {
   "cell_type": "code",
   "execution_count": 6,
   "id": "05e28f42",
   "metadata": {
    "scrolled": true
   },
   "outputs": [
    {
     "name": "stdout",
     "output_type": "stream",
     "text": [
      "dict_keys([])\n"
     ]
    }
   ],
   "source": [
    "columns = ['timeframe', 'pps_upload', 'avg_pkt_len_upload', 'pps_download', 'avg_pkt_len_download']\n",
    "\n",
    "NPATH = '../data/raw/normal/'\n",
    "APATH = '../data/raw/anomaly/' #  adv-medium-exf adv-cnc avg-medium-exf avg-cnc avg-cnc/ api-cnc/   \n",
    "ALL_ANOMALY = False # ALL TYPES OF SCENARIOS...FalseRUE RUE False True\n",
    "\n",
    "files_normal = [f for f in os.listdir(NPATH) if os.path.isfile(os.path.join(NPATH, f))]\n",
    "\n",
    "files_anomaly = [f for f in os.listdir(APATH) if os.path.isfile(os.path.join(APATH, f))]      #  APATHf  A A\n",
    "\n",
    "datasets_normal = {\n",
    "    file.split(\".\")[0] : pd.read_csv(os.path.join(NPATH, file), delim_whitespace=True, names = columns) \n",
    "        for file in files_normal \n",
    "} \n",
    "    \n",
    "\n",
    "datasets_anomaly = {}\n",
    "if ALL_ANOMALY:#alll\n",
    "    datasets_anomaly = {\n",
    "      d+\"__\"+file.split(\".\")[0] : pd.read_csv(os.path.join(os.path.join(APATH, d), file), delim_whitespace=True, names = columns) \n",
    "          for d in os.listdir(APATH) if os.path.isdir(os.path.join(APATH, d)) and d != \"old\"\\\n",
    "              for file in os.listdir(os.path.join(APATH, d)) if (os.path.isfile(os.path.join(os.path.join(APATH, d), file))) #])\n",
    "    }  \n",
    "else:\n",
    "    datasets_anomaly = {\n",
    "        file.split(\".\")[0] : pd.read_csv(os.path.join(APATH, file), delim_whitespace=True, names = columns)\n",
    "            for file in files_anomaly\n",
    "    }\n",
    "\n",
    "print(datasets_anomaly.keys())"
   ]
  },
  {
   "cell_type": "markdown",
   "id": "2066e44a",
   "metadata": {},
   "source": [
    "'ubuntu-social-adblock-17-may',             <silence, pps, >\n",
    "'usny',                                     <pktlen, pps, silence>\n",
    "'windows-19may-3h13am',                     <pktlen, pps, silence>\n",
    "'ubuntu-study-adblockextreme-16may',        <pktlen, pps, silence>\n",
    "'ubuntu-30july-17h-dotls',                  <pktlen, pps, silence>\n",
    "'upyn',                                     <pktlen, pps, silence>\n",
    "'msyn',                                     <pktlen, >\n",
    "'ubuntu-30july-03h-dotls-adblock',          <>\n",
    "'windows-18may-19h14',                      <pktlen, pps, >\n",
    "'ubuntu-28july-19h'                         <pktlen, pps, silence>"
   ]
  },
  {
   "cell_type": "markdown",
   "id": "a247e68c",
   "metadata": {},
   "source": [
    "# \"Discrete KDE\" for malicious DNS distributions"
   ]
  },
  {
   "cell_type": "code",
   "execution_count": 211,
   "id": "508c6586",
   "metadata": {},
   "outputs": [],
   "source": [
    "#my changes: np.size(domain) - 1, because I dont want pps=0  #i\n",
    "def discrete_kde(data, alpha):\n",
    "    freq_data = np.bincount(data)\n",
    "    empirical_probabilities = (freq_data+alpha)/(np.size(data)+(alpha*(np.size(freq_data)-1)))\n",
    "    empirical_probabilities[0] = 0\n",
    "    return empirical_probabilities"
   ]
  },
  {
   "cell_type": "markdown",
   "id": "cb7a4d44",
   "metadata": {},
   "source": [
    "helper function to scale and round data for the average packet length..."
   ]
  },
  {
   "cell_type": "code",
   "execution_count": 212,
   "id": "55ecb81a",
   "metadata": {},
   "outputs": [],
   "source": [
    "from sklearn.preprocessing import MinMaxScaler\n",
    "\n",
    "def scale_data(data, min, max):\n",
    "    \n",
    "    scaler = MinMaxScaler(feature_range=(min, max))\n",
    "    data = data.reshape(len(data), 1)\n",
    "    scaler.fit(data)\n",
    "    data = scaler.transform(data)\n",
    "    data = data.reshape(len(data))\n",
    "    data = [round(d) for d in data]\n",
    "    #print(data)\n",
    "    return data"
   ]
  },
  {
   "cell_type": "code",
   "execution_count": 213,
   "id": "775ede7a",
   "metadata": {},
   "outputs": [],
   "source": [
    "DATASET = \"ubuntu-social-adblock-17-may\" #\"ubuntu-30july-03h-dotls-adblock\" #usny\n",
    "TYPE = \"pps_slow\" #\"pps\" pktlen  pps"
   ]
  },
  {
   "cell_type": "markdown",
   "id": "a8bc0b7a",
   "metadata": {},
   "source": [
    "IP HEADER: 20 bytes <br>\n",
    "ETH HEADER: 14 bytes <br>\n",
    "UDP HEADER: 8 bytes <br>\n",
    "DNS HEADERS: 12+2+2=16 bytes... <br>\n",
    "TOTAL: 20+14+8+12+2+2= 58<br>\n",
    "t.bot.pt -> 1t3bot2pt0 -> 10...<br>\n",
    "MAX QNAME = 255... <br> \n",
    "255-10=245... / 3 = ~3.8 = 63+63+63+56"
   ]
  },
  {
   "cell_type": "code",
   "execution_count": 214,
   "id": "1f42f844",
   "metadata": {
    "scrolled": true
   },
   "outputs": [
    {
     "data": {
      "image/png": "[encoded data removed]",
      "text/plain": [
       "<Figure size 432x288 with 1 Axes>"
      ]
     },
     "metadata": {
      "needs_background": "light"
     },
     "output_type": "display_data"
    }
   ],
   "source": [
    "from matplotlib import pyplot\n",
    "import plotly.figure_factory as ff\n",
    "from sklearn.neighbors import KernelDensity\n",
    "\n",
    "if TYPE == \"silence\":\n",
    "    periods = ~np.any(datasets_normal[DATASET].iloc[:, 1:], axis=1) # TRUE -> ROW OF ZEROS... xay\n",
    "    periods_lst = make_lists(periods) # --> create lists of silence and activity periods...\n",
    "    data = [len(zero) for zero in periods_lst if zero[0] == True] # filter slicente periods...\n",
    "elif TYPE == \"pps\" or TYPE == \"pps_slow\":\n",
    "    data = np.array([a for a in datasets_normal[DATASET].pps_upload if a > 0])\n",
    "else: \n",
    "    #print(datasets_normal[DATASET].avg_pkt_len_upload)\n",
    "    #print(np.array([a for a in datasets_normal[DATASET].avg_pkt_len_upload if a > 0]))\n",
    "    data = np.array([a for a in datasets_normal[DATASET].avg_pkt_len_upload if a > 0])\n",
    "\n",
    "pyplot.hist(data, bins=50, density=True) #sample0\n",
    "\n",
    "pyplot.show() #<<<<<<<<<<<<<<<<<<<<<<<<<<<<<<<<<<<<<<<<<<<<<<<<<<<<<<<<<<<<<<<<<<<<<<<<<<<<<<<<<<<<<<<<<<<<<<<<<<<<<<<<<<<<<<<<<<<<<<<<<<<<<<<<<<<<<<<<<<<<<<<<<<<<<<<<<<<<<<<<<<<<<<<<<<<<<<<<<<<<<<<<<<<<<<<<<<<<<<<<<<<<<<<<<<<<<<<<<<<<<<<<<<<<<<<<<<<<<<<<<<<<<<<<<<<<<<<<<<<<<<<<<<<<<<<<<<<<<<<<<<<<<<<<<<<<<<<<<<<<<<<<<<<<<<<<<<<<<<<<<<<<<<<<<<<<<<<<<<<<<<<<<<<<<<<<<<<<<<<<<<<<<<<<<<<<<<<<<<<<<<<<<<<<<<"
   ]
  },
  {
   "cell_type": "code",
   "execution_count": 215,
   "id": "770cd00d",
   "metadata": {},
   "outputs": [],
   "source": [
    "ALPHA = 0.3"
   ]
  },
  {
   "cell_type": "code",
   "execution_count": 216,
   "id": "67268ed5",
   "metadata": {
    "scrolled": true
   },
   "outputs": [
    {
     "data": {
      "image/png": "[encoded data removed]",
      "text/plain": [
       "<Figure size 432x288 with 1 Axes>"
      ]
     },
     "metadata": {
      "needs_background": "light"
     },
     "output_type": "display_data"
    }
   ],
   "source": [
    "# SCALING: IF NEEDED, DONE FOR AVERAGE PACKET LENGTH...:::\n",
    "if TYPE == \"pktlen\":\n",
    "    data = scale_data(data, 2, 50) # 50 -> 140bytes, 100 -> 214 bytes, 70 -> 170, por aí...\n",
    "\n",
    "if TYPE == \"pps_slow\":\n",
    "    data = scale_data(data, 1, 4)\n",
    "empirical_probabilities = discrete_kde(data, ALPHA)\n",
    "\n",
    "sampling = np.random.choice(list(range(np.size(empirical_probabilities))), size=1000, replace=True, p=empirical_probabilities)\n",
    "#print(sampling)\n",
    "pyplot.hist(sampling, bins='auto', density=True)\n",
    "pyplot.show()"
   ]
  },
  {
   "cell_type": "code",
   "execution_count": 172,
   "id": "3403da74",
   "metadata": {
    "scrolled": false
   },
   "outputs": [
    {
     "name": "stdout",
     "output_type": "stream",
     "text": [
      "../data/dist_weights/ppslow-ubuntu-social-adblock-17-may-alpha-0_3\n"
     ]
    }
   ],
   "source": [
    "gen_filename = None\n",
    "if TYPE == \"pps\":\n",
    "    gen_filename = \"pps-\" + DATASET + \"-alpha-\" + str(ALPHA).replace(\".\", \"_\")\n",
    "if TYPE == \"pps_slow\":\n",
    "    gen_filename = \"ppslow-\" + DATASET + \"-alpha-\" + str(ALPHA).replace(\".\", \"_\")\n",
    "elif TYPE == \"silence\":\n",
    "    gen_filename = \"silence-\" + DATASET + \"-alpha-\" + str(ALPHA).replace(\".\", \"_\")\n",
    "else:\n",
    "    gen_filename = \"pktlen-\" + DATASET + \"-alpha-\" + str(ALPHA).replace(\".\", \"_\")\n",
    "\n",
    "filename = \"../data/dist_weights/{}\".format(gen_filename)\n",
    "print(filename)\n",
    "np.save(filename, empirical_probabilities)"
   ]
  },
  {
   "cell_type": "code",
   "execution_count": 173,
   "id": "5acb5cd0",
   "metadata": {
    "scrolled": true
   },
   "outputs": [
    {
     "name": "stdout",
     "output_type": "stream",
     "text": [
      "ssh: connect to host 192.168.122.231 port 22: No route to host\r",
      "\r\n",
      "lost connection\r\n"
     ]
    }
   ],
   "source": [
    "scpname = filename + \".npy\"\n",
    "!sshpass -p \"labcom\" scp $scpname labcom@192.168.122.231:~/Desktop/dns2tcp/advanced-hacker/stats/dist_weights/"
   ]
  },
  {
   "cell_type": "markdown",
   "id": "281acb00",
   "metadata": {},
   "source": [
    "# 1 - PPS UPLOAD"
   ]
  },
  {
   "cell_type": "markdown",
   "id": "d3b1bb0c",
   "metadata": {},
   "source": [
    "## 1.1 - Licit DNS Time Series"
   ]
  },
  {
   "cell_type": "code",
   "execution_count": null,
   "id": "9f3bacac",
   "metadata": {
    "scrolled": false
   },
   "outputs": [],
   "source": [
    "rows = len(datasets_normal.keys())\n",
    "\n",
    "fig = make_subplots(rows=rows, cols=1, subplot_titles=tuple(k for k in datasets_normal.keys()))\n",
    "\n",
    "for i, k in enumerate(datasets_normal.keys()): \n",
    "    ds = datasets_normal[k]\n",
    "    fig.append_trace(go.Scatter(x = ds.timeframe, y = ds.pps_upload, mode='lines', name=k, \n",
    "                                marker_color=normal_white if PLOTLY_THEME == 'plotly' else normal_dark), \n",
    "                     row=i+1, col=1)\n",
    "    \n",
    "fig.update_xaxes(title_text=\"Time (s)\")\n",
    "fig.update_yaxes(title_text=\"Throughput (pps)\")\n",
    "fig.update(layout_showlegend=False)\n",
    "fig.update_layout(title='Licit DNS traffic Time Series - Upload Thoughput', height=200*rows)\n",
    "\n",
    "fig.show()  "
   ]
  },
  {
   "cell_type": "markdown",
   "id": "a08118a1",
   "metadata": {},
   "source": [
    "## 1.2 - Licit DNS Histogram\n"
   ]
  },
  {
   "cell_type": "code",
   "execution_count": null,
   "id": "ecb49c9c",
   "metadata": {
    "scrolled": false
   },
   "outputs": [],
   "source": [
    "rows = len(datasets_normal.keys())\n",
    "\n",
    "fig = make_subplots(rows=rows, cols=1, subplot_titles=tuple(k for k in datasets_normal.keys()))\n",
    "\n",
    "for i, k in enumerate(datasets_normal.keys()): \n",
    "    ds = datasets_normal[k]\n",
    "    fig.append_trace(go.Histogram(x=[a for a in ds.pps_upload if a > 0], name=k, \n",
    "                                  marker_color=normal_white if PLOTLY_THEME == 'plotly' else normal_dark), row=i+1, col=1)\n",
    "\n",
    "\n",
    "fig.update_xaxes(title_text=\"Upload (pps)\")\n",
    "fig.update_yaxes(title_text=\"Intensity\")\n",
    "fig.update(layout_showlegend=False)\n",
    "fig.update_layout(title='Licit DNS traffic Histogram - Upload Throughput', height=200*rows)\n",
    "\n",
    "fig.show()  "
   ]
  },
  {
   "cell_type": "markdown",
   "id": "e7c96360",
   "metadata": {},
   "source": [
    "## 1.3 - Malicious DNS - Time Series"
   ]
  },
  {
   "cell_type": "code",
   "execution_count": null,
   "id": "0d191d10",
   "metadata": {
    "scrolled": false
   },
   "outputs": [],
   "source": [
    "rows = len(datasets_anomaly.keys())\n",
    "\n",
    "fig = make_subplots(rows=rows, cols=1, subplot_titles=tuple(k for k in datasets_anomaly.keys()))\n",
    "\n",
    "for i, k in enumerate(datasets_anomaly.keys()):\n",
    "    ds = datasets_anomaly[k]\n",
    "    fig.append_trace(go.Scatter(x = ds.timeframe, y = ds.pps_upload, mode='lines', name=k, \n",
    "                                marker_color= anomaly_white if PLOTLY_THEME == 'plotly' else anomaly_dark), \n",
    "                     row=i+1, col=1)\n",
    "\n",
    "fig.update_xaxes(title_text=\"Time (s)\")\n",
    "fig.update_yaxes(title_text=\"Upload (pps)\")\n",
    "fig.update(layout_showlegend=False)\n",
    "fig.update_layout(title='Malicious DNS traffic Time Series - Upload Thoughput', height=200*rows)\n",
    "\n",
    "fig.show()     "
   ]
  },
  {
   "cell_type": "markdown",
   "id": "f6ab2daf",
   "metadata": {},
   "source": [
    "## 1.4 - Malicious DNS - Histogram"
   ]
  },
  {
   "cell_type": "code",
   "execution_count": null,
   "id": "16ba9141",
   "metadata": {
    "scrolled": false
   },
   "outputs": [],
   "source": [
    "rows = len(datasets_anomaly.keys())\n",
    "\n",
    "fig = make_subplots(rows=rows, cols=1, subplot_titles=tuple(k for k in datasets_anomaly.keys()))\n",
    "\n",
    "for i, k in enumerate(datasets_anomaly.keys()):\n",
    "    ds = datasets_anomaly[k]\n",
    "    fig.append_trace(go.Histogram(x=[a for a in ds.pps_upload if a > 0], name=k,\n",
    "                                 marker_color= anomaly_white if PLOTLY_THEME == 'plotly' else anomaly_dark),\n",
    "                     row=i+1, col=1)\n",
    "\n",
    "fig.update_xaxes(title_text=\"Upload (pps)\")\n",
    "fig.update_yaxes(title_text=\"Intensity\")\n",
    "fig.update(layout_showlegend=False)\n",
    "fig.update_layout(title='Malicious DNS traffic Histogram - Upload Throughput', height=200*rows)\n",
    "\n",
    "fig.show()    "
   ]
  },
  {
   "cell_type": "markdown",
   "id": "2b68cd1c",
   "metadata": {},
   "source": [
    "# 2- PPS Download"
   ]
  },
  {
   "cell_type": "markdown",
   "id": "f849a181",
   "metadata": {},
   "source": [
    "## 2.1 - Normal DNS - Time Series "
   ]
  },
  {
   "cell_type": "code",
   "execution_count": null,
   "id": "6dd328d2",
   "metadata": {},
   "outputs": [],
   "source": [
    "rows = len(datasets_normal.keys())\n",
    "\n",
    "fig = make_subplots(rows=rows, cols=1, subplot_titles=tuple(k for k in datasets_normal.keys()))\n",
    "\n",
    "for i, k in enumerate(datasets_normal.keys()):\n",
    "    ds = datasets_normal[k]\n",
    "    fig.append_trace(go.Scatter(x = ds.timeframe, y = ds.pps_download, mode='lines', name=k, \n",
    "                               marker_color=normal_white if PLOTLY_THEME == 'plotly' else normal_dark),\n",
    "                     row=i+1, col=1)\n",
    "            \n",
    "\n",
    "fig.update_xaxes(title_text=\"Time (s)\")\n",
    "fig.update_yaxes(title_text=\"Download (pps)\")\n",
    "\n",
    "fig.update_layout(title='Licit DNS traffic Time Series - Download Thoughput', height=200*rows)\n",
    "fig.update(layout_showlegend=False)\n",
    "fig.show()  "
   ]
  },
  {
   "cell_type": "markdown",
   "id": "bb5043b2",
   "metadata": {},
   "source": [
    "## 2.2 - Normal DNS - Histogram "
   ]
  },
  {
   "cell_type": "code",
   "execution_count": null,
   "id": "fa51920b",
   "metadata": {
    "scrolled": true
   },
   "outputs": [],
   "source": [
    "rows = len(datasets_normal.keys())\n",
    "\n",
    "fig = make_subplots(rows=rows, cols=1, subplot_titles=tuple(datasets_normal.keys()))\n",
    "\n",
    "for i, k in enumerate(datasets_normal.keys()):\n",
    "    ds = datasets_normal[k]\n",
    "    fig.append_trace(go.Histogram(x=[a for a in ds.pps_download if a > 0], name=k, \n",
    "                                  marker_color=normal_white if PLOTLY_THEME == 'plotly' else normal_dark),\n",
    "                     row=i+1, col=1)\n",
    "            #) . ds\n",
    "\n",
    "fig.update_xaxes(title_text=\"Download (pps)\")\n",
    "fig.update_yaxes(title_text=\"Intensity\")\n",
    "\n",
    "fig.update_layout(title='Licit DNS traffic Histogram - download', height=200*rows)\n",
    "fig.update(layout_showlegend=False)\n",
    "fig.show()  "
   ]
  },
  {
   "cell_type": "markdown",
   "id": "ce9d44bd",
   "metadata": {},
   "source": [
    "## 2.3 - Malicious DNS - Time Series"
   ]
  },
  {
   "cell_type": "code",
   "execution_count": null,
   "id": "80de6ab7",
   "metadata": {
    "scrolled": false
   },
   "outputs": [],
   "source": [
    "rows = len(datasets_anomaly.keys())\n",
    "\n",
    "fig = make_subplots(rows=rows, cols=1, subplot_titles=tuple(datasets_anomaly.keys()))\n",
    "\n",
    "for i, k in enumerate(datasets_anomaly.keys()):\n",
    "    ds = datasets_anomaly[k]\n",
    "    fig.append_trace(go.Scatter(x = ds.timeframe, y = ds.pps_download, mode='lines', name=k,\n",
    "                     marker_color=anomaly_white if PLOTLY_THEME == 'plotly' else anomaly_dark),\n",
    "                     row=i+1, col=1)\n",
    "            \n",
    "\n",
    "fig.update_xaxes(title_text=\"Time (s)\")\n",
    "fig.update_yaxes(title_text=\"Download (pps)\")\n",
    "fig.update(layout_showlegend=False)\n",
    "fig.update_layout(title='Malicious DNS data download', height=200*rows)\n",
    "# Average High and Low Temperatures in New York   \n",
    "fig.show() "
   ]
  },
  {
   "cell_type": "markdown",
   "id": "a6f222e6",
   "metadata": {},
   "source": [
    "## 2.4 - Malicious DNS - Histogram"
   ]
  },
  {
   "cell_type": "code",
   "execution_count": null,
   "id": "4da665cf",
   "metadata": {
    "scrolled": false
   },
   "outputs": [],
   "source": [
    "rows = len(datasets_anomaly.keys()) # print()\n",
    "\n",
    "fig = make_subplots(rows=rows, cols=1, subplot_titles=tuple(datasets_anomaly.keys()))\n",
    "\n",
    "for i, k in enumerate(datasets_anomaly.keys()):\n",
    "    ds = datasets_anomaly[k]\n",
    "    fig.append_trace(go.Histogram(x=[a for a in ds.pps_download if a > 0], name=k,\n",
    "                                 marker_color=anomaly_white if PLOTLY_THEME == 'plotly' else anomaly_dark),\n",
    "                     row=i+1,\n",
    "                     col=1)\n",
    "            #) \n",
    "\n",
    "fig.update_xaxes(title_text=\"Download (pps)\")\n",
    "fig.update_yaxes(title_text=\"Intensity\")\n",
    "fig.update(layout_showlegend=False)\n",
    "fig.update_layout(title='Malicious DNS data download generated with DNS Tunneling tools', height=200*rows)\n",
    "\n",
    "fig.show()    "
   ]
  },
  {
   "cell_type": "markdown",
   "id": "77f80612",
   "metadata": {},
   "source": [
    "# 3 - Average Packet Length"
   ]
  },
  {
   "cell_type": "markdown",
   "id": "f712e7d2",
   "metadata": {},
   "source": [
    "## 3.1 - Normal DNS Avg Pkt Len Upload"
   ]
  },
  {
   "cell_type": "code",
   "execution_count": null,
   "id": "9b7acc4c",
   "metadata": {
    "scrolled": false
   },
   "outputs": [],
   "source": [
    "rows = len(datasets_normal.keys())\n",
    "\n",
    "fig = make_subplots(rows=int(math.ceil(rows/2)),  \n",
    "                    cols=2, \n",
    "                    subplot_titles=tuple(datasets_normal.keys()))\n",
    "\n",
    "row = 1\n",
    "col = 0\n",
    "for i, k in enumerate(datasets_normal.keys()):\n",
    "    ds = datasets_normal[k]\n",
    "    fig.append_trace(go.Histogram(x=[a for a in ds.avg_pkt_len_upload if a > 0], \n",
    "                                  marker_color=normal_white if PLOTLY_THEME == 'plotly' else normal_dark), # , name='macOS'\n",
    "                 row=row,\n",
    "                 col=col+1)\n",
    "    if (i+1) % 2 == 0: row = row + 1;\n",
    "    col = (col + 1) % 2;\n",
    "    \n",
    "\n",
    "\n",
    "\n",
    "            #) 31  31 22222222 2222 [][] []\n",
    "\n",
    "fig.update_xaxes(title_text=\"Average Packet Length (bytes)\")\n",
    "fig.update_yaxes(title_text=\"Intensity\")\n",
    "\n",
    "fig.update_layout(title='Licit DNS traffic Histogram - Upload Average Packet Length', height=200*rows) #, height=900Dns2tcp\n",
    "fig.update(layout_showlegend=False)\n",
    "\n",
    "fig.show()  "
   ]
  },
  {
   "cell_type": "markdown",
   "id": "a9511ff5",
   "metadata": {},
   "source": [
    "## 3.2 - Malicious DNS Avg Pkt Len Upload"
   ]
  },
  {
   "cell_type": "code",
   "execution_count": null,
   "id": "1dba3062",
   "metadata": {
    "scrolled": false
   },
   "outputs": [],
   "source": [
    "rows = len(datasets_anomaly.keys())\n",
    "\n",
    "fig = make_subplots(rows=int(math.ceil(rows/2)), cols=2, subplot_titles=tuple(datasets_anomaly.keys()))\n",
    "\n",
    "row = 1\n",
    "col = 0\n",
    "for i, k in enumerate(datasets_anomaly.keys()):\n",
    "    ds = datasets_anomaly[k]\n",
    "    fig.append_trace(go.Histogram(x=[a for a in ds.avg_pkt_len_upload if a > 0], \n",
    "                                 marker_color=anomaly_white if PLOTLY_THEME == 'plotly' else anomaly_dark), #, name='Iodine w/ pings'\n",
    "                     row=row, col=col+1)\n",
    "    if (i+1) % 2 == 0: row = row + 1;\n",
    "    col = (col + 1) % 2;\n",
    "\n",
    "#) iodine2\n",
    "\n",
    "fig.update_xaxes(title_text=\"Average Packet Length (Bytes)\")\n",
    "fig.update_yaxes(title_text=\"Intensity\")\n",
    "\n",
    "fig.update_layout(title='Malicious DNS traffic Histogram - Upload Average Packet Length', height=200*rows) #\n",
    "fig.update(layout_showlegend=False)\n",
    "\n",
    "fig.show()  "
   ]
  },
  {
   "cell_type": "markdown",
   "id": "d71db04c",
   "metadata": {},
   "source": [
    "## 3.3 - Normal DNS Avg Pkt Len Download"
   ]
  },
  {
   "cell_type": "code",
   "execution_count": null,
   "id": "3ab933df",
   "metadata": {
    "scrolled": false
   },
   "outputs": [],
   "source": [
    "#Upload1\n",
    "\n",
    "rows = len(datasets_normal.keys())\n",
    "\n",
    "fig = make_subplots(rows=int(math.ceil(rows/2)), cols=2, subplot_titles=tuple(datasets_normal.keys()))\n",
    "\n",
    "row = 1\n",
    "col = 0\n",
    "for i, k in enumerate(datasets_normal.keys()):\n",
    "    ds = datasets_normal[k]\n",
    "    fig.append_trace(go.Histogram(x=[a for a in ds.avg_pkt_len_download if a > 0], \n",
    "                                 marker_color=normal_white if PLOTLY_THEME == 'plotly' else normal_dark), #, name='macOS'\n",
    "                     row=row, col=col+1)\n",
    "    if (i+1) % 2 == 0: row = row + 1;   \n",
    "    col = (col + 1) % 2;\n",
    "            #) 1 normal_macnormal_mac normal_mac =11=11 =11 =11\n",
    "\n",
    "fig.update_xaxes(title_text=\"Average Packet Length (bytes)\")\n",
    "fig.update_yaxes(title_text=\"Intensity\")\n",
    "\n",
    "fig.update_layout(title='Average Packet Length Download (Normal DNS data)', height=rows*200) #  \n",
    "fig.update(layout_showlegend=False)\n",
    "\n",
    "fig.show()    "
   ]
  },
  {
   "cell_type": "markdown",
   "id": "f8615363",
   "metadata": {},
   "source": [
    "## 3.4 - Malicious DNS Avg Pkt Len Download"
   ]
  },
  {
   "cell_type": "code",
   "execution_count": null,
   "id": "da3bd08e",
   "metadata": {
    "scrolled": false
   },
   "outputs": [],
   "source": [
    "#3Normal 11 1\n",
    "\n",
    "rows = len(datasets_anomaly.keys())\n",
    "\n",
    "fig = make_subplots(rows=int(math.ceil(rows/2)), cols=2, subplot_titles=tuple(datasets_anomaly.keys()))     \n",
    "\n",
    "row = 1\n",
    "col = 0\n",
    "for i, k in enumerate(datasets_anomaly.keys()):\n",
    "    ds = datasets_anomaly[k]\n",
    "    fig.append_trace(go.Histogram(x=[a for a in ds.avg_pkt_len_download if a > 0],\n",
    "                                 marker_color=anomaly_white if PLOTLY_THEME == 'plotly' else anomaly_dark), #, name='Iodine w/ pings'\n",
    "                     row=row,\n",
    "                     col=col+1)\n",
    "    if (i+1) % 2 == 0: row = row + 1;\n",
    "    col = (col + 1) % 2; \n",
    "       \n",
    "fig.update_xaxes(title_text=\"Average Packet Length (Bytes)\")\n",
    "fig.update_yaxes(title_text=\"Intensity\")\n",
    "\n",
    "fig.update_layout(title='Average Packet Length Download (generated with DNS Tunneling tools)', height=200*rows) #, 1000\n",
    "fig.update(layout_showlegend=False)\n",
    "\n",
    "fig.show()  "
   ]
  },
  {
   "cell_type": "markdown",
   "id": "1b306d82",
   "metadata": {},
   "source": [
    "# 4 - Comparing Normal and Anomaly Raw Data"
   ]
  },
  {
   "cell_type": "markdown",
   "id": "fe1f7661",
   "metadata": {},
   "source": [
    "### 4.1 - Throughput (pps): Normal x Anomaly"
   ]
  },
  {
   "cell_type": "code",
   "execution_count": null,
   "id": "31dabc48",
   "metadata": {
    "scrolled": false
   },
   "outputs": [],
   "source": [
    "allnormal = pd.concat([datasets_normal[df].copy() for df in datasets_normal]) \n",
    "allanomaly = pd.concat([datasets_anomaly[df].copy() for df in datasets_anomaly \n",
    "                        if \"pings\" not in df and \"dns2tcp\" in df and \"17may\" in df])\n",
    "\n",
    "fig = make_subplots(rows=2, cols=1, subplot_titles=tuple(('Upload thoughput (pps)', 'Download throuput (pps)')))\n",
    "#list comprehension: remove silence periods...\n",
    "fig.append_trace(go.Histogram(x=[a for a in allnormal.pps_upload if a > 0], \n",
    "                           histnorm='probability', \n",
    "                           name='upload_normal'), row=1, col=1)\n",
    "#list comprehension: remove silence periods...\n",
    "fig.append_trace(go.Histogram(x=[a for a in allanomaly.pps_upload if a > 0], \n",
    "                           histnorm='probability', \n",
    "                           name='upload_anomaly'), row=1, col=1) \n",
    "#list comprehension: remove silence periods...\n",
    "fig.append_trace(go.Histogram(x=[a for a in allnormal.pps_download if a > 0], \n",
    "                           histnorm='probability', \n",
    "                           name='download_normal'), row=2, col=1) \n",
    "#list comprehension: remove silence periods...\n",
    "fig.append_trace(go.Histogram(x=[a for a in allanomaly.pps_download if a > 0], \n",
    "                           histnorm='probability', \n",
    "                           name='download_anomaly'), row=2, col=1) \n",
    "\n",
    "fig.update_xaxes(title_text=\"Throughput (pps)\")\n",
    "fig.update_yaxes(title_text=\"Percentage\")\n",
    "\n",
    "fig.update_layout(barmode='overlay')\n",
    "fig.update_traces(selector=dict(name='upload_anomaly'), opacity=0.55)\n",
    "fig.update_traces(selector=dict(name='download_anomaly'), opacity=0.55)\n",
    "fig.show()"
   ]
  },
  {
   "cell_type": "markdown",
   "id": "336b9a42",
   "metadata": {},
   "source": [
    "###  4.2 - Average Packet Length: Normal x Anomaly"
   ]
  },
  {
   "cell_type": "code",
   "execution_count": null,
   "id": "c71db60f",
   "metadata": {
    "scrolled": false
   },
   "outputs": [],
   "source": [
    "allnormal = pd.concat([datasets_normal[df].copy() for df in datasets_normal]) \n",
    "allanomaly = pd.concat([datasets_anomaly[df].copy() for df in datasets_anomaly \n",
    "                        if \"pings\" not in df and \"dns2tcp\" in df and \"17may\" in df])\n",
    "\n",
    "fig = go.Figure()\n",
    "fig = make_subplots(rows=2, cols=1, subplot_titles=tuple(('Upload Average Packet Length (Bytes)', 'Download Average Packet Length (Bytes)')))\n",
    "#list comprehension: remove silence periods...\n",
    "fig.append_trace(go.Histogram(x=[a for a in allnormal.avg_pkt_len_upload if a > 0], \n",
    "                           histnorm='probability', \n",
    "                           name='upload_normal'), row=1, col=1)\n",
    "#list comprehension: remove silence periods...\n",
    "fig.append_trace(go.Histogram(x=[a for a in allanomaly.avg_pkt_len_upload if a > 0], \n",
    "                           histnorm='probability', \n",
    "                           name='upload_anomaly'), row=1, col=1) \n",
    "#list comprehension: remove silence periods...\n",
    "fig.append_trace(go.Histogram(x=[a for a in allnormal.avg_pkt_len_download if a > 0], \n",
    "                           histnorm='probability', \n",
    "                           name='download_normal'), row=2, col=1) \n",
    "#list comprehension: remove silence periods...\n",
    "fig.append_trace(go.Histogram(x=[a for a in allanomaly.avg_pkt_len_download if a > 0], \n",
    "                           histnorm='probability', \n",
    "                           name='download_anomaly'), row=2, col=1) \n",
    "\n",
    "fig.update_xaxes(title_text=\"Average Packet Length (Bytes)\")\n",
    "fig.update_yaxes(title_text=\"Percentage\")\n",
    "\n",
    "fig.update_layout(barmode='overlay')\n",
    "fig.update_traces(selector=dict(name='upload_anomaly'), opacity=0.55)\n",
    "fig.update_traces(selector=dict(name='download_anomaly'), opacity=0.55)\n",
    "fig.show()"
   ]
  },
  {
   "cell_type": "markdown",
   "id": "275f19cc",
   "metadata": {},
   "source": [
    "# 5 - Dataset Generation"
   ]
  },
  {
   "cell_type": "markdown",
   "id": "a3fc0049",
   "metadata": {},
   "source": [
    " ### PPS to Packet Interarrival time (Optional)"
   ]
  },
  {
   "cell_type": "code",
   "execution_count": null,
   "id": "f0c7e2c1",
   "metadata": {},
   "outputs": [],
   "source": [
    "print(datasets_normal.keys())\n",
    "for ds in datasets_normal.keys():\n",
    "    datasets_normal[ds]['pps_upload'] = datasets_normal[ds]['pps_upload'].apply(lambda x: 1/x if x != 0 else 0.0)\n",
    "    datasets_normal[ds]['pps_download'] = datasets_normal[ds]['pps_download'].apply(lambda x: 1/x if x != 0 else 0.0)\n",
    "    #datasets_normal[ds].rename(columns = {'pps_upload':'', 'old_col2':'new_col2'}, inplace = True)\n",
    "\n",
    "for ds in datasets_anomaly.keys():\n",
    "    datasets_anomaly[ds]['pps_upload'] = datasets_anomaly[ds]['pps_upload'].apply(lambda x: 1/x if x != 0 else 0.0)\n",
    "    datasets_anomaly[ds]['pps_download'] = datasets_anomaly[ds]['pps_download'].apply(lambda x: 1/x if x != 0 else 0.0)\n",
    "    print(datasets_anomaly[ds]['pps_download'])\n",
    "#print(datasets_normal['ubuntu-social-adblock-17-may'].pps_upload)\n",
    "#print(datasets_anomaly['adv-medium-exf__dns2tcp-21july-nopings'].pps_upload)"
   ]
  },
  {
   "cell_type": "markdown",
   "id": "44b1b607",
   "metadata": {},
   "source": [
    "### 5.1 - Sliding Observation Window"
   ]
  },
  {
   "cell_type": "code",
   "execution_count": 217,
   "id": "621a8cae",
   "metadata": {},
   "outputs": [],
   "source": [
    "def slidingObsWindow(data, length_obs_window, sliding_value):\n",
    "    n_samples, n_metrics = data.shape # rows x columns \n",
    "    subdatas = []\n",
    "    for slide in np.arange(length_obs_window, n_samples, sliding_value):\n",
    "        subdata = data[slide-length_obs_window:slide, :], # timeframe...\n",
    "        subdatas.append(subdata) #..\n",
    "    subdatas = np.array(subdatas)\n",
    "    subdatas = subdatas.reshape(-1, subdatas.shape[2], subdatas.shape[3])\n",
    "    return subdatas # SHAPE: n_windowed_samples, n_raw_samples (rows), n_raw_features (columns)\n",
    "\n",
    "def slidingMultObsWindow(data, length_obs_window, sliding_value):\n",
    "    n_samples,n_metrics=data.shape\n",
    "    subdatas = []\n",
    "    for slide in np.arange(max(length_obs_window),n_samples,sliding_value):\n",
    "        subdatas_aux = {} #k:[] for k in length_obs_window\n",
    "        for ow in length_obs_window:\n",
    "            subdatas_aux.update({ow:data[slide-ow:slide,:]})\n",
    "            #print(\"\\nAt sample: {}\\nObservation window size: {}\\nSliding value: {}\".format(slide-1,ow,sliding_value))\n",
    "        subdatas.append(subdatas_aux) #\n",
    "    return subdatas"
   ]
  },
  {
   "cell_type": "code",
   "execution_count": 218,
   "id": "b9891812",
   "metadata": {},
   "outputs": [],
   "source": [
    "''' seconds per window ; number of seconds to slide between windows '''\n",
    "# [500, 850, 2350, 3450, 4500] 075455, 2250, 3375, 4200\n",
    "obs_windows = [300, 600, 900] ; sliding_value = [2, 5, 10, 15] # experimentar janelas pequenas, medias e grandes e varios valores da sliding_value\n",
    "\n",
    "OBS_WIN = \"MULT\" #4500  450 750 2250k 3375  4200  2700 3600 4500 450 75225 , 3375, 4200    \n",
    "SLIDING_VALUE = 2 # 5   "
   ]
  },
  {
   "cell_type": "code",
   "execution_count": 219,
   "id": "3035da7b",
   "metadata": {
    "scrolled": true
   },
   "outputs": [],
   "source": [
    "#a = slidingMultObsWindow(datasets_normal['msyn'].values, obs_windows, SLIDING_VALUE)\n",
    "#print(a[0])\n",
    "raw_win_normal = {\n",
    "    k:slidingMultObsWindow(datasets_normal[k].values, obs_windows, SLIDING_VALUE) \n",
    "        for k in datasets_normal\n",
    "}\n",
    "\n",
    "raw_win_anomaly = {\n",
    "    k:slidingMultObsWindow(datasets_anomaly[k].values, obs_windows, SLIDING_VALUE)\n",
    "        for k in datasets_anomaly\n",
    "}\n",
    "####\n",
    "# IF YOU WANT A SINGLE DATASET TO BE GENERATED, COMMENT THE CODE BELOW AND ADD YOUR DS TO \"RAW_SETS\"\n",
    "raw_sets = [] \n",
    "\n",
    "for nraw in raw_win_normal.keys():\n",
    "    raw_sets.append([nraw, raw_win_normal[nraw], 0])\n",
    "####"
   ]
  },
  {
   "cell_type": "markdown",
   "id": "cb54e3bc",
   "metadata": {},
   "source": [
    "feature_names = \"mean\", \"trim_mean_05\", \"std\", \"max\", \"quantile_95\", \"quantile_98\", \"quantile_99\", \"quantile_999\", \"quantile_9999\"  <!-- [] #\"median\"  \" DD --><br>\n",
    " <br>\n",
    " silence_activity_names = \"n\", \"mean\",\"trim_mean_05\",\"std\",\"max\",\"quantile_85\",\"quantile_90\", \"quantile_95\", \"quantile_99\", \"quantile_999\"[]<br>"
   ]
  },
  {
   "cell_type": "markdown",
   "id": "c377ac42",
   "metadata": {},
   "source": [
    "### 5.3 - Dataset Generation"
   ]
  },
  {
   "cell_type": "code",
   "execution_count": 220,
   "id": "1782f23b",
   "metadata": {
    "scrolled": false
   },
   "outputs": [
    {
     "name": "stdout",
     "output_type": "stream",
     "text": [
      "0\n",
      "ubuntu-social-adblock-17-may\n",
      "0\n",
      "usny\n",
      "0\n",
      "windows-19may-3h13am\n",
      "0\n",
      "ubuntu-study-adblockextreme-16may\n",
      "0\n",
      "ubuntu-13sept-adblock\n",
      "0\n",
      "ubuntu-30july-17h-dotls\n",
      "0\n",
      "upyn\n",
      "0\n",
      "msyn\n",
      "0\n",
      "ubuntu-30july-03h-dotls-adblock\n",
      "0\n",
      "windows-18may-19h14\n",
      "0\n",
      "ubuntu-13sept\n",
      "0\n",
      "ubuntu-28july-19h\n"
     ]
    }
   ],
   "source": [
    "normal_ds = []\n",
    "anomaly_ds = []\n",
    "\n",
    "feature_names = [\"mean\", \"trim_mean_05\", \"std\", \"max\", \"quantile_85\", #\n",
    "     \"quantile_90\", \"quantile_95\", \"quantile_99\"]  #  ,  \"quantile_999\"\n",
    "\n",
    "silence_activity_names = [\"n\", \"mean\",\"trim_mean_05\", \"std\", \"max\", \"quantile_85\", # \n",
    "    \"quantile_90\", \"quantile_95\", \"quantile_99\"] #,  \"quantile_999\"\n",
    "\n",
    "for rs in raw_sets:\n",
    "    ds = []\n",
    "    label = rs[2]\n",
    "    title = []\n",
    "    for i_win, win in enumerate(rs[1]): # obs_win = time interval of observation windows...\n",
    "        features = [] \n",
    "        stats_silence = []\n",
    "        stats_activity = []\n",
    "        for twin in win.keys():  #rs[]rs[]  win = length of observation window...\n",
    "            #print(win[:, 1:])\n",
    "            for col in np.array(win[twin]).T[1:]: # shape: (4, 600)  iqr(col, rng=(95, 99.95)) --> interquartile range.\n",
    "                features = features + [np.mean(col), \n",
    "                                       trim_mean(col, 0.05),  \n",
    "                                       np.std(col), #\n",
    "                                       np.amax(col),  \n",
    "                                       np.quantile(col, 0.85), \n",
    "                                       np.quantile(col, 0.90), \n",
    "                                       np.quantile(col, 0.95), \n",
    "                                       np.quantile(col, 0.99)] #, np.quantile(col, 0.999)   \n",
    "\n",
    "            periods = ~np.any(win[twin][:, 1:], axis=1) # TRUE -> ROW OF ZEROS...\n",
    "            periods_lst = make_lists(periods) # --> create lists of silence and activity periods...\n",
    "\n",
    "            silence=[len(zero) for zero in periods_lst if zero[0] == True] # filter slicente periods...\n",
    "            activity=[len(act) for act in periods_lst if act[0] == False]   \n",
    "            #stats_activity = [0, 0, 0, 0, 0, 0, 0, 0, 0] #\n",
    "            if silence != []:\n",
    "                stats_silence = stats_silence + [np.sum(periods), \n",
    "                                                 np.mean(silence), \n",
    "                                                 trim_mean(silence, 0.05),\n",
    "                                                 np.std(silence), #,\n",
    "                                                 np.amax(silence), \n",
    "                                                 np.quantile(silence, 0.85), \n",
    "                                                 np.quantile(silence, 0.90), \n",
    "                                                 np.quantile(silence, 0.95),  \n",
    "                                                 np.quantile(silence, 0.99)] #, np.quantile(col, 0.999)\n",
    "            else:      \n",
    "                stats_silence = stats_silence + [0, 0, 0, 0, 0, 0, 0, 0, 0] #,\n",
    "                \n",
    "            if activity != []:\n",
    "                stats_activity = stats_activity + [np.sum(activity), \n",
    "                                                   np.mean(activity), \n",
    "                                                   trim_mean(activity, 0.05), \n",
    "                                                   np.std(activity), # \n",
    "                                                   np.amax(activity),  \n",
    "                                                   np.quantile(activity, 0.85), \n",
    "                                                   np.quantile(activity, 0.90),\n",
    "                                                   np.quantile(activity, 0.95),\n",
    "                                                   np.quantile(activity, 0.99)] # , np.quantile(activity, 0.999) \n",
    "            else:\n",
    "                stats_activity = stats_activity + [0, 0, 0, 0, 0, 0, 0, 0, 0]\n",
    "            \n",
    "            if i_win == 0:\n",
    "                title = title + [col + '_' + feature + '_' + str(twin) for col in columns[1:] for feature in feature_names] +\\\n",
    "                    [\"silence_\" + n + '_' + str(twin) for n in silence_activity_names]  +\\\n",
    "                    [\"activity_\" + n + '_' + str(twin) for n in silence_activity_names]\n",
    "   \n",
    "        ds = ds + [ features + stats_silence + stats_activity]         \n",
    "            #print(ds[0][1])         \n",
    "            # posso fazer a media, variancia etc dos momentos a zero em cada janela...\n",
    "            # contar a sequencia dos periodos a silencios... para janelas grandes pq senao a media, var, etc vai ser smp igual \n",
    "\n",
    "    title = title + [\"label\"]        \n",
    "\n",
    "    ds = np.array(ds)        \n",
    "\n",
    "    #print(np.array(title).shape)\n",
    "    #print(ds.shape)\n",
    "\n",
    "    labels = np.zeros((ds.shape[0], 1), dtype=int) if label == 0 else np.ones((ds.shape[0], 1), dtype=int)\n",
    "    #print(labels)\n",
    "    ds = np.append(ds, labels, axis=1)\n",
    "    \n",
    "    if label == 0: \n",
    "        normal_ds = normal_ds + [[rs[0], pd.DataFrame(ds, columns = title)]]\n",
    "    else: \n",
    "        anomaly_ds = anomaly_ds + [[rs[0], pd.DataFrame(ds, columns = title)]]  \n",
    "    print(label)\n",
    "    print(rs[0])"
   ]
  },
  {
   "cell_type": "code",
   "execution_count": 221,
   "id": "16d223e1",
   "metadata": {
    "scrolled": true
   },
   "outputs": [
    {
     "data": {
      "text/html": [
       "\n",
       "                <audio  controls=\"controls\" autoplay=\"autoplay\">\n",
       "                    <source src=\"https://sound.peal.io/ps/audios/000/000/537/original/woo_vu_luvub_dub_dub.wav\" type=\"audio/x-wav\" />\n",
       "                    Your browser does not support the audio element.\n",
       "                </audio>\n",
       "              "
      ],
      "text/plain": [
       "<IPython.lib.display.Audio object>"
      ]
     },
     "metadata": {},
     "output_type": "display_data"
    }
   ],
   "source": [
    "allDone()"
   ]
  },
  {
   "cell_type": "markdown",
   "id": "21b20de4",
   "metadata": {},
   "source": [
    "### 4.4 - Save new datasets"
   ]
  },
  {
   "cell_type": "code",
   "execution_count": 222,
   "id": "52d59554",
   "metadata": {},
   "outputs": [
    {
     "data": {
      "text/plain": [
       "['..', 'data', 'raw', 'anomaly', '']"
      ]
     },
     "execution_count": 222,
     "metadata": {},
     "output_type": "execute_result"
    }
   ],
   "source": [
    "APATH.split(\"/\")"
   ]
  },
  {
   "cell_type": "code",
   "execution_count": 223,
   "id": "90356f7d",
   "metadata": {
    "scrolled": false
   },
   "outputs": [
    {
     "data": {
      "text/plain": [
       "' uncomment to save'"
      ]
     },
     "execution_count": 223,
     "metadata": {},
     "output_type": "execute_result"
    }
   ],
   "source": [
    "from pathlib import Path\n",
    "\n",
    "np = \"../data/datasets/normal/\"\n",
    "ap = \"../data/datasets/anomaly/\"\n",
    "\n",
    "pd.set_option('display.max_rows', None)\n",
    "#ds = normal_ds[3]\n",
    "# print(ds[0])\n",
    "# print(ds[1].iloc[:, 0:4])\n",
    "\n",
    "winslide_name = \"obs_\" + str(OBS_WIN) + \"slide_\" + str(SLIDING_VALUE) \n",
    "\n",
    "''' uncomment to save''' \n",
    "for ds in normal_ds:\n",
    "    dirname = np+winslide_name+\"/\"\n",
    "    Path(dirname).mkdir(parents=True, exist_ok=True)\n",
    "    ds[1].to_csv(dirname+ds[0]+\".txt\", index=None, sep=' ')\n",
    "\n",
    "\n",
    "''' uncomment to save''' \n",
    "#for ds in anomaly_ds:\n",
    "#   if ALL_ANOMALY:\n",
    "#       names = ds[0].split(\"__\")\n",
    "#       dirname = ap+winslide_name+\"/\"+names[0]+\"/\"\n",
    "#       Path(dirname).mkdir(parents=True, exist_ok=True)\n",
    "#       ds[1].to_csv(dirname+names[1]+\".txt\", index=None,  sep=' ')\n",
    "#   else:    \n",
    "#       dirname = ap+winslide_name+\"/\"+APATH.split(\"/\")[-2]+\"/\"\n",
    "#       Path(dirname).mkdir(parents=True, exist_ok=True)\n",
    "#       ds[1].to_csv(dirname+ds[0]+\".txt\", index=None, sep=\" \")  "
   ]
  },
  {
   "cell_type": "code",
   "execution_count": 224,
   "id": "67a93faf",
   "metadata": {
    "scrolled": true
   },
   "outputs": [],
   "source": [
    "#"
   ]
  }
 ],
 "metadata": {
  "kernelspec": {
   "display_name": "Python 3 (ipykernel)",
   "language": "python",
   "name": "python3"
  },
  "language_info": {
   "codemirror_mode": {
    "name": "ipython",
    "version": 3
   },
   "file_extension": ".py",
   "mimetype": "text/x-python",
   "name": "python",
   "nbconvert_exporter": "python",
   "pygments_lexer": "ipython3",
   "version": "3.8.10"
  }
 },
 "nbformat": 4,
 "nbformat_minor": 5
}
